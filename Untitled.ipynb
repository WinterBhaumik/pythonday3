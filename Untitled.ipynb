{
 "cells": [
  {
   "cell_type": "code",
   "execution_count": 2,
   "metadata": {},
   "outputs": [
    {
     "name": "stdout",
     "output_type": "stream",
     "text": [
      "[('RAVI', 4), ('SANJEEV', 7), ('JOHN', 4)]\n"
     ]
    }
   ],
   "source": [
    "def name(names):\n",
    "    name_info = [(name.upper(), len(name)) for name in names]\n",
    "    return name_info\n",
    "\n",
    "input_names = ['Ravi', 'Sanjeev', 'John']\n",
    "output = name(input_names)\n",
    "print(output)\n"
   ]
  },
  {
   "cell_type": "code",
   "execution_count": 3,
   "metadata": {},
   "outputs": [
    {
     "name": "stdout",
     "output_type": "stream",
     "text": [
      "['1984', '13', '1000']\n"
     ]
    }
   ],
   "source": [
    "import re\n",
    "\n",
    "def extract(sentence):\n",
    "    numbers = re.findall(r'\\d+', sentence)\n",
    "    return numbers\n",
    "\n",
    "input_sentence = 'In 1984 there were 13 instances of a protest with over 1000 people attending'\n",
    "numbers_found = extract(input_sentence)\n",
    "print(numbers_found)\n"
   ]
  },
  {
   "cell_type": "code",
   "execution_count": null,
   "metadata": {},
   "outputs": [],
   "source": []
  }
 ],
 "metadata": {
  "kernelspec": {
   "display_name": "Python 3",
   "language": "python",
   "name": "python3"
  },
  "language_info": {
   "codemirror_mode": {
    "name": "ipython",
    "version": 3
   },
   "file_extension": ".py",
   "mimetype": "text/x-python",
   "name": "python",
   "nbconvert_exporter": "python",
   "pygments_lexer": "ipython3",
   "version": "3.7.6"
  }
 },
 "nbformat": 4,
 "nbformat_minor": 4
}
